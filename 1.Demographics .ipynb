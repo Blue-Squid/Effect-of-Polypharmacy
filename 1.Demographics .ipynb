{
 "cells": [
  {
   "cell_type": "code",
   "execution_count": 1,
   "metadata": {},
   "outputs": [],
   "source": [
    "import numpy as np \n",
    "import pandas as pd "
   ]
  },
  {
   "cell_type": "code",
   "execution_count": 2,
   "metadata": {},
   "outputs": [
    {
     "data": {
      "text/html": [
       "<div>\n",
       "<style scoped>\n",
       "    .dataframe tbody tr th:only-of-type {\n",
       "        vertical-align: middle;\n",
       "    }\n",
       "\n",
       "    .dataframe tbody tr th {\n",
       "        vertical-align: top;\n",
       "    }\n",
       "\n",
       "    .dataframe thead th {\n",
       "        text-align: right;\n",
       "    }\n",
       "</style>\n",
       "<table border=\"1\" class=\"dataframe\">\n",
       "  <thead>\n",
       "    <tr style=\"text-align: right;\">\n",
       "      <th></th>\n",
       "      <th>Age</th>\n",
       "      <th>Gender</th>\n",
       "      <th>Occupation</th>\n",
       "      <th>Marital_Status</th>\n",
       "      <th>Education</th>\n",
       "      <th>Social_habits</th>\n",
       "      <th>Present_Illness_Comorbid_Conditions</th>\n",
       "      <th>Chronic_Comorbid_Conditions</th>\n",
       "      <th>Vitals</th>\n",
       "      <th>No_Of_Medicine_Per_Day</th>\n",
       "      <th>...</th>\n",
       "      <th>Lack_Of_Apetite_Nausea_Satiety</th>\n",
       "      <th>Symptoms2</th>\n",
       "      <th>Health_Check_Up</th>\n",
       "      <th>Control_Of_Bowel_Bladder_Movements</th>\n",
       "      <th>Precautions_Adherence_To_Selfcare</th>\n",
       "      <th>Adverse_Effects_Of_Medication</th>\n",
       "      <th>Adverse_Effects</th>\n",
       "      <th>Medication_Causing_Adverse_Effects</th>\n",
       "      <th>Medication_Dosage</th>\n",
       "      <th>Quality_Of_Life_Effected</th>\n",
       "    </tr>\n",
       "    <tr>\n",
       "      <th>Id</th>\n",
       "      <th></th>\n",
       "      <th></th>\n",
       "      <th></th>\n",
       "      <th></th>\n",
       "      <th></th>\n",
       "      <th></th>\n",
       "      <th></th>\n",
       "      <th></th>\n",
       "      <th></th>\n",
       "      <th></th>\n",
       "      <th></th>\n",
       "      <th></th>\n",
       "      <th></th>\n",
       "      <th></th>\n",
       "      <th></th>\n",
       "      <th></th>\n",
       "      <th></th>\n",
       "      <th></th>\n",
       "      <th></th>\n",
       "      <th></th>\n",
       "      <th></th>\n",
       "    </tr>\n",
       "  </thead>\n",
       "  <tbody>\n",
       "    <tr>\n",
       "      <th>1</th>\n",
       "      <td>68</td>\n",
       "      <td>F</td>\n",
       "      <td>None</td>\n",
       "      <td>Married</td>\n",
       "      <td>None</td>\n",
       "      <td>none</td>\n",
       "      <td>Hypertension</td>\n",
       "      <td>Hypertension</td>\n",
       "      <td>Temp-N-B.p- 130/90mmhg-RBS- 90mg/dl-Pulse rate...</td>\n",
       "      <td>6</td>\n",
       "      <td>...</td>\n",
       "      <td>yes</td>\n",
       "      <td>dizziness(on sitting or standing ) | headache ...</td>\n",
       "      <td>never</td>\n",
       "      <td>no</td>\n",
       "      <td>yes</td>\n",
       "      <td>no</td>\n",
       "      <td>None</td>\n",
       "      <td>None</td>\n",
       "      <td>None</td>\n",
       "      <td>yes</td>\n",
       "    </tr>\n",
       "    <tr>\n",
       "      <th>2</th>\n",
       "      <td>67</td>\n",
       "      <td>M</td>\n",
       "      <td>Employed</td>\n",
       "      <td>Married</td>\n",
       "      <td>None</td>\n",
       "      <td>alcohol, smoking</td>\n",
       "      <td>type II DM</td>\n",
       "      <td>Diabetes Mellitus</td>\n",
       "      <td>Temp- N -B.p- 110/70mmhg-Pulse rate- 82 b/min-...</td>\n",
       "      <td>8</td>\n",
       "      <td>...</td>\n",
       "      <td>yes</td>\n",
       "      <td>dizziness(on sitting or standing ) | pedal ede...</td>\n",
       "      <td>never</td>\n",
       "      <td>yes</td>\n",
       "      <td>yes</td>\n",
       "      <td>no</td>\n",
       "      <td>None</td>\n",
       "      <td>None</td>\n",
       "      <td>None</td>\n",
       "      <td>yes</td>\n",
       "    </tr>\n",
       "    <tr>\n",
       "      <th>3</th>\n",
       "      <td>67</td>\n",
       "      <td>M</td>\n",
       "      <td>Employed</td>\n",
       "      <td>Married</td>\n",
       "      <td>High school</td>\n",
       "      <td>smoking</td>\n",
       "      <td>Stroke</td>\n",
       "      <td>Stroke</td>\n",
       "      <td>temp-N-B.p-170/90mmHg-pulse rate-89 b/min-RBS-...</td>\n",
       "      <td>6</td>\n",
       "      <td>...</td>\n",
       "      <td>yes</td>\n",
       "      <td>pedal edema  | frequent thirst  | frequent uri...</td>\n",
       "      <td>monthly</td>\n",
       "      <td>no</td>\n",
       "      <td>yes</td>\n",
       "      <td>no</td>\n",
       "      <td>None</td>\n",
       "      <td>None</td>\n",
       "      <td>None</td>\n",
       "      <td>yes</td>\n",
       "    </tr>\n",
       "    <tr>\n",
       "      <th>4</th>\n",
       "      <td>68</td>\n",
       "      <td>M</td>\n",
       "      <td>None</td>\n",
       "      <td>Married</td>\n",
       "      <td>Graduate</td>\n",
       "      <td>alcohol, chewing tobacco</td>\n",
       "      <td>hypertension with type II DM</td>\n",
       "      <td>Hypertension,Diabetes Mellitus</td>\n",
       "      <td>Temp-N -B.P- 140/90 mmhg-pulse rate - 74b/min-...</td>\n",
       "      <td>7</td>\n",
       "      <td>...</td>\n",
       "      <td>yes</td>\n",
       "      <td>dizziness(on sitting or standing ) | headache ...</td>\n",
       "      <td>monthly</td>\n",
       "      <td>yes</td>\n",
       "      <td>yes</td>\n",
       "      <td>no</td>\n",
       "      <td>None</td>\n",
       "      <td>None</td>\n",
       "      <td>None</td>\n",
       "      <td>yes</td>\n",
       "    </tr>\n",
       "    <tr>\n",
       "      <th>5</th>\n",
       "      <td>72</td>\n",
       "      <td>M</td>\n",
       "      <td>Employed</td>\n",
       "      <td>Married</td>\n",
       "      <td>None</td>\n",
       "      <td>alcohol, smoking</td>\n",
       "      <td>hypertension</td>\n",
       "      <td>Hypertension</td>\n",
       "      <td>Temp- N -B.P- 130/90mmhg -Pulse rate - 78b/min...</td>\n",
       "      <td>6</td>\n",
       "      <td>...</td>\n",
       "      <td>yes</td>\n",
       "      <td>dizziness(on sitting or standing ) | headache ...</td>\n",
       "      <td>monthly</td>\n",
       "      <td>no</td>\n",
       "      <td>no</td>\n",
       "      <td>no</td>\n",
       "      <td>None</td>\n",
       "      <td>None</td>\n",
       "      <td>None</td>\n",
       "      <td>yes</td>\n",
       "    </tr>\n",
       "  </tbody>\n",
       "</table>\n",
       "<p>5 rows × 53 columns</p>\n",
       "</div>"
      ],
      "text/plain": [
       "    Age Gender Occupation Marital_Status    Education  \\\n",
       "Id                                                      \n",
       "1    68      F       None        Married         None   \n",
       "2    67      M   Employed        Married         None   \n",
       "3    67      M   Employed        Married  High school   \n",
       "4    68      M       None        Married     Graduate   \n",
       "5    72      M   Employed        Married         None   \n",
       "\n",
       "               Social_habits Present_Illness_Comorbid_Conditions  \\\n",
       "Id                                                                 \n",
       "1                       none                       Hypertension    \n",
       "2           alcohol, smoking                         type II DM    \n",
       "3                    smoking                             Stroke    \n",
       "4   alcohol, chewing tobacco        hypertension with type II DM   \n",
       "5           alcohol, smoking                        hypertension   \n",
       "\n",
       "       Chronic_Comorbid_Conditions  \\\n",
       "Id                                   \n",
       "1                     Hypertension   \n",
       "2                Diabetes Mellitus   \n",
       "3                           Stroke   \n",
       "4   Hypertension,Diabetes Mellitus   \n",
       "5                     Hypertension   \n",
       "\n",
       "                                               Vitals  No_Of_Medicine_Per_Day  \\\n",
       "Id                                                                              \n",
       "1   Temp-N-B.p- 130/90mmhg-RBS- 90mg/dl-Pulse rate...                       6   \n",
       "2   Temp- N -B.p- 110/70mmhg-Pulse rate- 82 b/min-...                       8   \n",
       "3   temp-N-B.p-170/90mmHg-pulse rate-89 b/min-RBS-...                       6   \n",
       "4   Temp-N -B.P- 140/90 mmhg-pulse rate - 74b/min-...                       7   \n",
       "5   Temp- N -B.P- 130/90mmhg -Pulse rate - 78b/min...                       6   \n",
       "\n",
       "    ... Lack_Of_Apetite_Nausea_Satiety  \\\n",
       "Id  ...                                  \n",
       "1   ...                           yes    \n",
       "2   ...                           yes    \n",
       "3   ...                           yes    \n",
       "4   ...                           yes    \n",
       "5   ...                           yes    \n",
       "\n",
       "                                            Symptoms2 Health_Check_Up  \\\n",
       "Id                                                                      \n",
       "1   dizziness(on sitting or standing ) | headache ...          never    \n",
       "2   dizziness(on sitting or standing ) | pedal ede...          never    \n",
       "3   pedal edema  | frequent thirst  | frequent uri...        monthly    \n",
       "4   dizziness(on sitting or standing ) | headache ...        monthly    \n",
       "5   dizziness(on sitting or standing ) | headache ...        monthly    \n",
       "\n",
       "   Control_Of_Bowel_Bladder_Movements Precautions_Adherence_To_Selfcare  \\\n",
       "Id                                                                        \n",
       "1                                 no                               yes    \n",
       "2                                yes                               yes    \n",
       "3                                 no                               yes    \n",
       "4                                yes                               yes    \n",
       "5                                 no                                no    \n",
       "\n",
       "   Adverse_Effects_Of_Medication Adverse_Effects  \\\n",
       "Id                                                 \n",
       "1                            no             None   \n",
       "2                            no            None    \n",
       "3                            no             None   \n",
       "4                            no             None   \n",
       "5                            no             None   \n",
       "\n",
       "   Medication_Causing_Adverse_Effects Medication_Dosage  \\\n",
       "Id                                                        \n",
       "1                                None              None   \n",
       "2                                None              None   \n",
       "3                                None              None   \n",
       "4                                None              None   \n",
       "5                                None              None   \n",
       "\n",
       "   Quality_Of_Life_Effected  \n",
       "Id                           \n",
       "1                      yes   \n",
       "2                      yes   \n",
       "3                      yes   \n",
       "4                      yes   \n",
       "5                      yes   \n",
       "\n",
       "[5 rows x 53 columns]"
      ]
     },
     "execution_count": 2,
     "metadata": {},
     "output_type": "execute_result"
    }
   ],
   "source": [
    "data = pd.read_excel(\"Data-Cleaned.xlsx\", index_col='Id') \n",
    "data.head() "
   ]
  },
  {
   "cell_type": "code",
   "execution_count": 3,
   "metadata": {},
   "outputs": [
    {
     "name": "stdout",
     "output_type": "stream",
     "text": [
      "MALE Patients - 170, Percentage - 53.97%\n"
     ]
    }
   ],
   "source": [
    "# gender demographics\n",
    "male = data.Gender.value_counts()[0] \n",
    "total_patients = data.shape[0]\n",
    "male_percentage = round((male / total_patients) * 100, 2) \n",
    "print(\"MALE Patients - {}, Percentage - {}%\".format(male, male_percentage))  "
   ]
  },
  {
   "cell_type": "code",
   "execution_count": 4,
   "metadata": {},
   "outputs": [
    {
     "name": "stdout",
     "output_type": "stream",
     "text": [
      "Age (mean) - 69.31111111111112 SD - 4.147561293708297\n"
     ]
    }
   ],
   "source": [
    "# Age \n",
    "print(\"Age (mean) - {} SD - {}\".format(data.Age.mean(), data.Age.std()))   "
   ]
  },
  {
   "cell_type": "code",
   "execution_count": 5,
   "metadata": {},
   "outputs": [
    {
     "name": "stdout",
     "output_type": "stream",
     "text": [
      "Widower's 21.9\n"
     ]
    }
   ],
   "source": [
    "# Marital Status\n",
    "ms = round(data.Marital_Status.value_counts()[2] / total_patients * 100, 2)\n",
    "print(\"Widower's {}\".format(ms)) "
   ]
  },
  {
   "cell_type": "code",
   "execution_count": 6,
   "metadata": {},
   "outputs": [
    {
     "name": "stdout",
     "output_type": "stream",
     "text": [
      "Employed 30.16\n"
     ]
    }
   ],
   "source": [
    "# Employment Status\n",
    "employed = round(data.Occupation.value_counts()[1] / total_patients * 100, 2)\n",
    "print(\"Employed {}\".format(employed)) "
   ]
  },
  {
   "cell_type": "code",
   "execution_count": 7,
   "metadata": {},
   "outputs": [
    {
     "data": {
      "text/plain": [
       "None           257\n",
       "Elementary      33\n",
       "High school     18\n",
       "Graduate         7\n",
       "Name: Education, dtype: int64"
      ]
     },
     "execution_count": 7,
     "metadata": {},
     "output_type": "execute_result"
    }
   ],
   "source": [
    "# Education \n",
    "data.Education.value_counts() "
   ]
  },
  {
   "cell_type": "code",
   "execution_count": 8,
   "metadata": {},
   "outputs": [
    {
     "data": {
      "text/plain": [
       "(6.768253968253968, 1.6121380151465643)"
      ]
     },
     "execution_count": 8,
     "metadata": {},
     "output_type": "execute_result"
    }
   ],
   "source": [
    "# Number of Medicines per day\n",
    "data.No_Of_Medicine_Per_Day.mean(), data.No_Of_Medicine_Per_Day.std()  "
   ]
  },
  {
   "cell_type": "code",
   "execution_count": 9,
   "metadata": {},
   "outputs": [
    {
     "data": {
      "text/plain": [
       "alcohol, smoking                     135\n",
       "none                                 113\n",
       "alcohol                               38\n",
       "smoking                               14\n",
       "alcohol, smoking, chewing tobacco      6\n",
       "chewing tobacco                        4\n",
       "alcohol, chewing tobacco               2\n",
       "alohol|smoking                         1\n",
       "alcohol/smoking                        1\n",
       "Name: Social_habits, dtype: int64"
      ]
     },
     "execution_count": 9,
     "metadata": {},
     "output_type": "execute_result"
    }
   ],
   "source": [
    "# social habits\n",
    "data.Social_habits.value_counts() "
   ]
  },
  {
   "cell_type": "code",
   "execution_count": 10,
   "metadata": {},
   "outputs": [],
   "source": [
    "# rate of polypharmacy \n"
   ]
  },
  {
   "cell_type": "code",
   "execution_count": null,
   "metadata": {},
   "outputs": [],
   "source": []
  },
  {
   "cell_type": "code",
   "execution_count": null,
   "metadata": {},
   "outputs": [],
   "source": []
  },
  {
   "cell_type": "code",
   "execution_count": null,
   "metadata": {},
   "outputs": [],
   "source": []
  },
  {
   "cell_type": "code",
   "execution_count": null,
   "metadata": {},
   "outputs": [],
   "source": []
  },
  {
   "cell_type": "code",
   "execution_count": null,
   "metadata": {},
   "outputs": [],
   "source": []
  },
  {
   "cell_type": "code",
   "execution_count": null,
   "metadata": {},
   "outputs": [],
   "source": []
  },
  {
   "cell_type": "code",
   "execution_count": null,
   "metadata": {},
   "outputs": [],
   "source": []
  },
  {
   "cell_type": "code",
   "execution_count": null,
   "metadata": {},
   "outputs": [],
   "source": []
  },
  {
   "cell_type": "code",
   "execution_count": null,
   "metadata": {},
   "outputs": [],
   "source": []
  }
 ],
 "metadata": {
  "kernelspec": {
   "display_name": "Python 3",
   "language": "python",
   "name": "python3"
  },
  "language_info": {
   "codemirror_mode": {
    "name": "ipython",
    "version": 3
   },
   "file_extension": ".py",
   "mimetype": "text/x-python",
   "name": "python",
   "nbconvert_exporter": "python",
   "pygments_lexer": "ipython3",
   "version": "3.7.6"
  }
 },
 "nbformat": 4,
 "nbformat_minor": 4
}
